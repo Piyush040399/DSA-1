{
  "metadata": {
    "language_info": {
      "codemirror_mode": {
        "name": "python",
        "version": 3
      },
      "file_extension": ".py",
      "mimetype": "text/x-python",
      "name": "python",
      "nbconvert_exporter": "python",
      "pygments_lexer": "ipython3",
      "version": "3.8"
    },
    "kernelspec": {
      "name": "python",
      "display_name": "Pyolite",
      "language": "python"
    }
  },
  "nbformat_minor": 4,
  "nbformat": 4,
  "cells": [
    {
      "cell_type": "code",
      "source": "// Q1. Write a program to find all pairs of an integer array whose sum is equal to a given number?\nconst findPair = (targetValue, arrayInput = [] ) => {\n    const pairs = [];\n    for (let i = 0; i < arrayInput.length; i += 1) {\n      for (let j = i + 1; j < arrayInput.length; j += 1) {\n        if (arrayInput[i] + arrayInput[j] === targetValue) {\n          pairs.push({\n            num1: arrayInput[i],\n            num2: arrayInput[j]\n          });\n        }\n      }\n    }\n    console.log(pairs);\n  };\n  \n  const input = [1, 4, 5, 7, 4, 6, 2, 10];\n  findPair(input, 10);\n  \n  // Q2. Write a program to reverse an array in place? In place means you cannot create a new array. You have to update the original array.\n  const reverseArray = (arr = []) => {\n    let start = 0;\n    let end = arr.length - 1;\n    while (start < end) {\n      let temp = arr[start];\n      arr[start] = arr[end];\n      arr[end] = temp;\n      start += 1;\n      end -= 1;\n    }\n    return arr;\n  };\n  const array = [1, 5, 7, 2, 3, 10, 4];\n  console.log(\"Reverse of is \", reverseArray(array));\n  \n  // Q3. Write a program to check if two strings are a rotation of each other?\n  const isSameAfterRotate = (str1 = \"\", str2 = \"\") => {\n    if (str1.length !== str2.length) return false;\n    let newStr2 = \"\";\n    for (let i = str2.length - 1; i >= 0; i--) {\n      newStr2 += str2[i];\n    }\n    return str1 === newStr2;\n  };\n  const str1 = \"ABCDE\";\n  const str2 = \"EDCBA\";\n  const str3 = \"ABDCE\";\n  console.log(str1, str2, \"is same\", isSameAfterRotate(str1, str2));\n  console.log(str1, str3, \"is same\", isSameAfterRotate(str1, str3));\n  \n  // Q4. Write a program to print the first non-repeated character from a string?\n  \n  const findFirstNotRepeatingChar = (str) => {\n    const countObj = {};\n    for (let i = 0; i < str.length; i++) {\n      countObj[str[i]] ? countObj[str[i]]++ : (countObj[str[i]] = 1);\n    }\n    const singleEntry = Object.keys(countObj).find((key) => countObj[key] === 1);\n    return singleEntry;\n  };\n  const str = \"asdasdacdfshdfnsdfhsd\";\n  console.log(\n    \"First non-repeated character from \",\n    str,\n    \" is \",\n    findFirstNotRepeatingChar(str)\n  );\n  \n  // Q5. Read about the Tower of Hanoi algorithm. Write a program to implement it.\n  \n  const towerOfHanoi = (disk, source, dest, aux) => {\n    if (disk === 1)\n      console.log(\"Move disk from source \", source, \" to destination \", dest);\n    else {\n      towerOfHanoi(disk - 1, source, aux, dest);\n      console.log(\"Move disk from source \", source, \" to destination \", dest);\n      towerOfHanoi(disk - 1, aux, dest, source);\n    }\n  };\n  towerOfHanoi(4, \"A\", \"B\", \"C\");\n  \n  // Basic Stack\n  function Stack() {\n    this.items = [];\n  \n    // push function\n    this.push = (element) => {\n      // push element into the items\n      this.items.push(element);\n    };\n    // pop function\n    this.pop = () => {\n      if (this.items.length > 0) return this.items.pop();\n    };\n  \n    // peek function\n    this.peek = () => {\n      return this.items[this.items.length - 1];\n    };\n  \n    // isEmpty function\n    this.isEmpty = () => {\n      return this.items.length === 0;\n    };\n  }\n  \n  function isOperator(x) {\n    switch (x) {\n      case \"+\":\n      case \"-\":\n      case \"/\":\n      case \"*\":\n        return true;\n    }\n    return false;\n  }\n  \n  //   Q6. Read about infix, prefix, and postfix expressions. Write a program to convert postfix to prefix expression.\n  function postToPre(post_exp) {\n    let stack = new Stack();\n    let length = post_exp.length;\n    for (let i = 0; i < length; i += 1) {\n      if (isOperator(post_exp[i])) {\n        let op1 = stack.pop();\n        let op2 = stack.pop();\n        let temp = post_exp[i] + op2 + op1;\n        stack.push(temp);\n      } else {\n        stack.push(post_exp[i] + \"\");\n      }\n    }\n    let ans = \"\";\n    while (stack.items.length > 0) ans += stack.pop();\n    return ans;\n  }\n  \n  let post_exp = \"abc/+xy*k-/\";\n  console.log(\"Prefix : \" + postToPre(post_exp));\n  \n  //   Q7. Write a program to convert prefix expression to infix expression.\n  function convertPrefixToInfix(str) {\n    let stack = new Stack();\n    let length = str.length;\n    for (let i = length - 1; i >= 0; i -= 1) {\n      let c = str[i];\n      if (isOperator(c)) {\n        let op1 = stack.pop();\n        let op2 = stack.pop();\n        let temp = \"(\" + op1 + c + op2 + \")\";\n        stack.push(temp);\n      } else {\n        stack.push(c + \"\");\n      }\n    }\n    return stack.pop();\n  }\n  \n  let exp = \"/-x*yz+/abc\";\n  console.log(\"Infix : \" + convertPrefixToInfix(exp));\n  \n  //   Q8. Write a program to check if all the brackets are closed in a given code snippet.\n  function checkBrackets(expr) {\n    let stack = new Stack();\n    for (let i = 0; i < expr.length; i++) {\n      let x = expr[i];\n  \n      if (x === \"(\" || x === \"[\" || x === \"{\") {\n        stack.push(x);\n        continue;\n      }\n      if (stack.isEmpty()) return false;\n  \n      let arg;\n      switch (x) {\n        case \")\":\n          arg = stack.pop();\n          if (arg === \"{\" || arg === \"[\") return false;\n          break;\n        case \"}\":\n          arg = stack.pop();\n          if (arg === \"(\" || arg === \"[\") return false;\n          break;\n        case \"]\":\n          arg = stack.pop();\n          if (arg === \"(\" || arg === \"{\") return false;\n          break;\n      }\n    }\n    return stack.isEmpty();\n  }\n  \n  let expr = \"([{}])]}\";\n  \n  if (checkBrackets(expr)) console.log(\"Balanced \");\n  else console.log(\"Not Balanced \");\n  \n  // Q9. Write a program to reverse a stack.\n  let stack = new Stack();\n  \n  function insertAtBottom(x) {\n    if (stack.isEmpty()) stack.push(x);\n    else {\n      let a = stack.pop();\n      insertAtBottom(x);\n      stack.push(a);\n    }\n  }\n  function reverseStack() {\n    if (stack.items.length > 0) {\n      let x = stack.pop();\n      reverseStack();\n      insertAtBottom(x);\n    }\n  }\n  stack.push(1);\n  stack.push(2);\n  stack.push(3);\n  stack.push(4);\n  stack.push(5);\n  stack.push(6);\n  stack.push(7);\n  stack.push(8);\n  \n  console.log(\"Original Stack\");\n  \n  console.log(stack.items);\n  \n  reverseStack();\n  \n  console.log(\"Reversed Stack\");\n  \n  console.log(stack.items);\n  \n  // Q10. Write a program to find the smallest number using a stack.\n  \n  function getMinimum() {\n    const stack2 = new Stack();\n    stack2.push(1);\n    stack2.push(10);\n    stack2.push(5);\n    stack2.push(3);\n    stack2.push(2);\n    stack2.push(9);\n    let first = stack2.pop();\n  \n    for (i = 0; i < stack2.items.length; i++) {\n      if (!stack2.isEmpty()) {\n        if (stack2.items[i] < first) {\n          first = stack2.items[i];\n        }\n      }\n    }\n    console.log(\"Minimum value is \", first);\n  }\n  getMinimum();\n  ",
      "metadata": {
        "trusted": true
      },
      "execution_count": 1,
      "outputs": [
        {
          "ename": "<class 'SyntaxError'>",
          "evalue": "invalid syntax (<ipython-input-1-af402f5e8be4>, line 2)",
          "traceback": [
            "\u001b[0;36m  Input \u001b[0;32mIn [1]\u001b[0;36m\u001b[0m\n\u001b[0;31m    const findPair = (targetValue, arrayInput = [] ) => {\u001b[0m\n\u001b[0m          ^\u001b[0m\n\u001b[0;31mSyntaxError\u001b[0m\u001b[0;31m:\u001b[0m invalid syntax\n"
          ],
          "output_type": "error"
        }
      ]
    },
    {
      "cell_type": "code",
      "source": "",
      "metadata": {},
      "execution_count": null,
      "outputs": []
    },
    {
      "cell_type": "code",
      "source": "",
      "metadata": {},
      "execution_count": null,
      "outputs": []
    }
  ]
}